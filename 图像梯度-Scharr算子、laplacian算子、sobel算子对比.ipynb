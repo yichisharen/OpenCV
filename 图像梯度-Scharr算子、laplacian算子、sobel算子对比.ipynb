{
 "cells": [
  {
   "cell_type": "code",
   "execution_count": 7,
   "id": "3a3a89ef",
   "metadata": {},
   "outputs": [],
   "source": [
    "\n",
    "import cv2\n",
    "# 第一步：加载图片\n",
    "img = cv2.imread('queen.jpg')\n",
    "cv2.imshow('original', img)\n",
    "cv2.waitKey(0)\n",
    "cv2.destroyAllWindows()\n"
   ]
  },
  {
   "cell_type": "code",
   "execution_count": 8,
   "id": "35199639",
   "metadata": {},
   "outputs": [],
   "source": [
    "# 第二步：对x轴方向上进行sobel算子相乘操作\n",
    "x_sobel = cv2.Sobel(img, cv2.CV_64F, 1, 0, ksize=3)\n",
    "cv2.imshow('x_sobel', x_sobel)\n",
    "cv2.waitKey(0)\n",
    "cv2.destroyAllWindows()"
   ]
  },
  {
   "cell_type": "markdown",
   "id": "2ba6b381",
   "metadata": {},
   "source": [
    "第一步：载入原始图片\n",
    "\n",
    "第二步：使用cv2.Sobel(src, cv2.CV_64F, 1, 0, ksize=3)  对x轴方向进行sobel算子相乘操作\n",
    "\n",
    "第三步：由于会出现负值的情况，因此使用cv2.convertScalerAbs() 转换为绝对值的形式\n",
    "\n",
    "第四步：计算y轴方向上的sobel算子\n",
    "\n",
    "第五步：使用cv2.addWeighted 将x轴方向的sobel算子的结果和y轴方向上的sobel算子的结果结合\n",
    "\n",
    "第六步：使用cv2.Sobel(src, cv2.CV_64F, 1, 1, ksize=3) 直接获得x轴和y轴方向上的sobel算子结合\n",
    "\n",
    "第七步：对这两个步骤获得的sobel算子作图"
   ]
  },
  {
   "cell_type": "code",
   "execution_count": 9,
   "id": "6eb09949",
   "metadata": {},
   "outputs": [],
   "source": [
    "# 第三步：因为右侧像素减去左边像素，存在负值的情况，因此使用cv2.convertScaleAbs取绝对值操作\n",
    "x_sobel = cv2.Sobel(img, cv2.CV_64F, 1, 0, ksize=3)\n",
    "x_sobel = cv2.convertScaleAbs(x_sobel)\n",
    "cv2.imshow('x_sobel', x_sobel)\n",
    "cv2.waitKey(0)\n",
    "cv2.destroyAllWindows()"
   ]
  },
  {
   "cell_type": "code",
   "execution_count": 10,
   "id": "1a241c4f",
   "metadata": {},
   "outputs": [],
   "source": [
    "# 第四步：计算y轴的sobel算子\n",
    "y_sobel = cv2.Sobel(img, cv2.CV_64F, 0, 1, ksize=3)\n",
    "y_sobel = cv2.convertScaleAbs(y_sobel)\n",
    "cv2.imshow('y_sobel', y_sobel)\n",
    "cv2.waitKey(0)\n",
    "cv2.destroyAllWindows()"
   ]
  },
  {
   "cell_type": "code",
   "execution_count": 11,
   "id": "1c8012dc",
   "metadata": {},
   "outputs": [],
   "source": [
    "# 第五步:并使用cv2.addweighted进行合并\n",
    "import numpy as np\n",
    "xy_sobel = cv2.addWeighted(x_sobel, 0.5, y_sobel, 0.5, 0)\n",
    "\n",
    "# 第六步： 直接使用cv2.sobel 进行计算\n",
    "xy_sobel_direct = cv2.Sobel(img, cv2.CV_64F, 1, 1, ksize=3)\n",
    "\n",
    "# 第七步：画图比较分步合并和一步到位的结果差异\n",
    "cv2.imshow('imgs', np.hstack((xy_sobel, xy_sobel_direct)))\n",
    "cv2.waitKey(0)\n",
    "cv2.destroyAllWindows()\n",
    "\n",
    "#不建议你直接计算"
   ]
  },
  {
   "cell_type": "code",
   "execution_count": 28,
   "id": "8968e5f2",
   "metadata": {},
   "outputs": [],
   "source": [
    "import cv2\n",
    "import numpy as np\n",
    "\n",
    "# 第一步读取图片\n",
    "lena = cv2.imread('huigirl.jpg', cv2.IMREAD_GRAYSCALE)\n",
    "cv2.imshow('lena', lena)\n",
    "cv2.waitKey(0)\n",
    "cv2.destroyAllWindows()"
   ]
  },
  {
   "cell_type": "code",
   "execution_count": 30,
   "id": "cc5014a6",
   "metadata": {},
   "outputs": [],
   "source": [
    "# 第二步：使用cv2.sobel进行sobel算子计算\n",
    "sobel_x = cv2.Sobel(lena, cv2.CV_64F, 1, 0)\n",
    "sobel_y = cv2.Sobel(lena, cv2.CV_64F, 0, 1)\n",
    "sobel_x = cv2.convertScaleAbs(sobel_x)\n",
    "sobel_y = cv2.convertScaleAbs(sobel_y)\n",
    "sobel_xy = cv2.addWeighted(sobel_x, 0.5, sobel_y, 0.5, 0)\n",
    "\n",
    "# 第三步：使用cv2.scharr进行scharr算子计算\n",
    "scharr_x = cv2.Scharr(lena, cv2.CV_64F, 1, 0)\n",
    "scharr_y = cv2.Scharr(lena, cv2.CV_64F, 0, 1)\n",
    "scharr_x = cv2.convertScaleAbs(scharr_x)\n",
    "scharr_y = cv2.convertScaleAbs(scharr_y)\n",
    "scharr_xy = cv2.addWeighted(scharr_x, 0.5, scharr_y, 0.5, 0)\n",
    "\n",
    "# 第四步： 使用cv2.laplacian 拉普拉斯算子计算\n",
    "lapkacian = cv2.Laplacian(lena, cv2.CV_64F)\n",
    "lapkacian = cv2.convertScaleAbs(lapkacian)\n",
    "\n",
    "# 第五步： 对三种结果进行画图\n",
    "cv2.imshow('imgs', np.hstack((sobel_xy, scharr_xy, lapkacian)))\n",
    "cv2.waitKey(0)\n",
    "cv2.destroyAllWindows()"
   ]
  },
  {
   "cell_type": "code",
   "execution_count": 14,
   "id": "665dcbc5",
   "metadata": {},
   "outputs": [
    {
     "data": {
      "text/plain": [
       "True"
      ]
     },
     "execution_count": 14,
     "metadata": {},
     "output_type": "execute_result"
    }
   ],
   "source": [
    "import cv2\n",
    "image=cv2.imread('girl.png',cv2.IMREAD_GRAYSCALE)#灰度图像，\n",
    "#保存 \n",
    "cv2.imwrite('huigirl.jpg',image)"
   ]
  },
  {
   "cell_type": "code",
   "execution_count": null,
   "id": "b26da499",
   "metadata": {},
   "outputs": [],
   "source": []
  }
 ],
 "metadata": {
  "kernelspec": {
   "display_name": "Python 3",
   "language": "python",
   "name": "python3"
  },
  "language_info": {
   "codemirror_mode": {
    "name": "ipython",
    "version": 3
   },
   "file_extension": ".py",
   "mimetype": "text/x-python",
   "name": "python",
   "nbconvert_exporter": "python",
   "pygments_lexer": "ipython3",
   "version": "3.8.8"
  }
 },
 "nbformat": 4,
 "nbformat_minor": 5
}
